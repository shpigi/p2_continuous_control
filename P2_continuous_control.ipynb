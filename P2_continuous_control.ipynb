{
 "cells": [
  {
   "cell_type": "markdown",
   "metadata": {},
   "source": [
    "# P2 Continuous Control"
   ]
  },
  {
   "cell_type": "code",
   "execution_count": 1,
   "metadata": {},
   "outputs": [],
   "source": [
    "from collections import deque\n",
    "from unityagents import UnityEnvironment"
   ]
  },
  {
   "cell_type": "markdown",
   "metadata": {},
   "source": [
    "## Open environment and view the space"
   ]
  },
  {
   "cell_type": "code",
   "execution_count": 2,
   "metadata": {},
   "outputs": [
    {
     "name": "stderr",
     "output_type": "stream",
     "text": [
      "INFO:unityagents:\n",
      "'Academy' started successfully!\n",
      "Unity Academy name: Academy\n",
      "        Number of Brains: 1\n",
      "        Number of External Brains : 1\n",
      "        Lesson number : 0\n",
      "        Reset Parameters :\n",
      "\t\tgoal_size -> 5.0\n",
      "\t\tgoal_speed -> 1.0\n",
      "Unity brain name: ReacherBrain\n",
      "        Number of Visual Observations (per agent): 0\n",
      "        Vector Observation space type: continuous\n",
      "        Vector Observation space size (per agent): 33\n",
      "        Number of stacked Vector Observation: 1\n",
      "        Vector Action space type: continuous\n",
      "        Vector Action space size (per agent): 4\n",
      "        Vector Action descriptions: , , , \n"
     ]
    },
    {
     "name": "stdout",
     "output_type": "stream",
     "text": [
      "State space: 33 \n",
      "Action space 4 \n",
      " Initial State  [ 0.00000000e+00 -4.00000000e+00  0.00000000e+00  1.00000000e+00\n",
      " -0.00000000e+00 -0.00000000e+00 -4.37113883e-08  0.00000000e+00\n",
      "  0.00000000e+00  0.00000000e+00  0.00000000e+00  0.00000000e+00\n",
      "  0.00000000e+00  0.00000000e+00 -1.00000000e+01  0.00000000e+00\n",
      "  1.00000000e+00 -0.00000000e+00 -0.00000000e+00 -4.37113883e-08\n",
      "  0.00000000e+00  0.00000000e+00  0.00000000e+00  0.00000000e+00\n",
      "  0.00000000e+00  0.00000000e+00  5.75471878e+00 -1.00000000e+00\n",
      "  5.55726624e+00  0.00000000e+00  1.00000000e+00  0.00000000e+00\n",
      " -1.68164849e-01]\n"
     ]
    }
   ],
   "source": [
    "# Instantiate the Unity environment with the reacher simulation of 20 agents\n",
    "env = UnityEnvironment(file_name='./Reacher_Linux/Reacher.x86_64')\n",
    "brain_name = env.brain_names[0]\n",
    "brain = env.brains[brain_name]\n",
    "env_info = env.reset(train_mode=False)[brain_name]      \n",
    "action_size = brain.vector_action_space_size     \n",
    "state = env_info.vector_observations[0]\n",
    "state_size = len(state)\n",
    "print(\"State space:\", state_size, \"\\nAction space\", action_size, \"\\n Initial State \", state )"
   ]
  },
  {
   "cell_type": "markdown",
   "metadata": {},
   "source": [
    "## Run while training agent"
   ]
  },
  {
   "cell_type": "code",
   "execution_count": 3,
   "metadata": {
    "scrolled": false
   },
   "outputs": [],
   "source": [
    "import torch\n",
    "import numpy as np\n",
    "\n",
    "def run(n_episodes=300, save_every=10, steps_to_learn=15, update_learn=20):\n",
    "    scores_moving_win = deque(maxlen=100)\n",
    "    total_scores = []\n",
    "    for i_episode in range(1, n_episodes+1):\n",
    "        scores = np.zeros(20) #One score per agent\n",
    "        #scores = np.empty(20)\n",
    "        env_info = env.reset(train_mode=True)[brain_name] \n",
    "        states = env_info.vector_observations\n",
    "        #print(states)\n",
    "        agent.reset()\n",
    "        t = 0\n",
    "        while True:\n",
    "            actions = agent.act(states)\n",
    "            env_info = env.step(actions)[brain_name]      \n",
    "            next_states = env_info.vector_observations            \n",
    "            rewards = env_info.rewards\n",
    "            scores += rewards\n",
    "            dones = env_info.local_done \n",
    "            for i in range(len(states)):\n",
    "                agent.step(states[i], actions[i], rewards[i], next_states[i], dones[i])\n",
    "            states = next_states\n",
    "            if t%steps_to_learn == 0:\n",
    "                for _ in range(update_learn):\n",
    "                    agent.learn()\n",
    "            if np.all(dones):                                  # exit loop if all episodes finished\n",
    "                break\n",
    "            t += 1\n",
    "\n",
    "        mean_score = np.mean(scores)\n",
    "        scores_moving_win.append(mean_score)\n",
    "        total_scores.append(mean_score)\n",
    "        average_score_moving_win = np.mean(scores_moving_win)\n",
    "        \n",
    "        print('\\rEpisode {}\\tAverage Score: {:.2f} \\t Min:{:.2f} \\t Max:{:.2f}'.format(\n",
    "            i_episode, average_score_moving_win,\n",
    "            np.min(scores), np.max(scores)), end=\"\")\n",
    "\n",
    "        if i_episode % save_every == 0:\n",
    "            print()\n",
    "            torch.save(agent.actor_local.state_dict(), 'checkpoint_{}_actor.pth'.format(i_episode))\n",
    "            torch.save(agent.critic_local.state_dict(), 'checkpoint_{}_critic.pth'.format(i_episode) )\n",
    "        \n",
    "        if (average_score_moving_win >=30) and (len(scores_moving_win)==100):\n",
    "            print(\"\\nReached train condition by episode {}!\".format(i_episode))\n",
    "            torch.save(agent.actor_local.state_dict(), 'final_actor.pth')\n",
    "            torch.save(agent.critic_local.state_dict(), 'final_critic.pth')\n",
    "            break\n",
    "    return total_scores"
   ]
  },
  {
   "cell_type": "code",
   "execution_count": 4,
   "metadata": {
    "scrolled": true
   },
   "outputs": [
    {
     "name": "stdout",
     "output_type": "stream",
     "text": [
      "cuda:0\n",
      "Episode 10\tAverage Score: 1.52 \t Min:1.04 \t Max:6.32\n",
      "Episode 20\tAverage Score: 3.94 \t Min:5.09 \t Max:13.84\n",
      "Episode 30\tAverage Score: 8.21 \t Min:11.68 \t Max:28.93\n",
      "Episode 40\tAverage Score: 13.13 \t Min:14.59 \t Max:39.61\n",
      "Episode 50\tAverage Score: 17.30 \t Min:25.78 \t Max:39.48\n",
      "Episode 60\tAverage Score: 20.50 \t Min:34.53 \t Max:39.36\n",
      "Episode 70\tAverage Score: 22.84 \t Min:29.23 \t Max:39.47\n",
      "Episode 80\tAverage Score: 24.66 \t Min:27.44 \t Max:39.39\n",
      "Episode 90\tAverage Score: 25.98 \t Min:34.15 \t Max:39.32\n",
      "Episode 100\tAverage Score: 27.04 \t Min:32.82 \t Max:39.14\n",
      "Episode 109\tAverage Score: 30.26 \t Min:29.26 \t Max:39.49\n",
      "Reached train condition by episode 109!\n"
     ]
    }
   ],
   "source": [
    "#Run Training\n",
    "#Instantiate critic and actor \n",
    "from agent import Agent\n",
    "\n",
    "agent = Agent(state_size=state_size, action_size=action_size)\n",
    "scores = run()"
   ]
  },
  {
   "cell_type": "markdown",
   "metadata": {},
   "source": [
    "## Plot run results"
   ]
  },
  {
   "cell_type": "code",
   "execution_count": 11,
   "metadata": {},
   "outputs": [
    {
     "data": {
      "image/png": "[encoded data removed]",
      "text/plain": [
       "<Figure size 504x504 with 1 Axes>"
      ]
     },
     "metadata": {
      "needs_background": "light"
     },
     "output_type": "display_data"
    }
   ],
   "source": [
    "import matplotlib.pyplot as plt\n",
    "%matplotlib inline\n",
    "\n",
    "# plot the scores\n",
    "fig = plt.figure(figsize=(7,7))\n",
    "ax = fig.add_subplot(111)\n",
    "plt.plot(np.arange(len(scores)), scores)\n",
    "N_smooth = 100\n",
    "smoothed_scores = np.convolve(scores, np.ones(N_smooth)/N_smooth, 'valid')\n",
    "plt.plot(N_smooth + np.arange(len(smoothed_scores)), smoothed_scores)\n",
    "plt.plot([0,len(scores)],[30, 30])\n",
    "plt.ylabel('Score')\n",
    "plt.xlabel('Episode #')\n",
    "plt.legend(['mean score-per-episode over the 20 agents',\n",
    "            'mean score over previous 100 episodes',\n",
    "            'passing score (mean over 100 episodes and agents)'])\n",
    "plt.show()"
   ]
  },
  {
   "cell_type": "code",
   "execution_count": 13,
   "metadata": {},
   "outputs": [],
   "source": [
    "env.close()"
   ]
  }
 ],
 "metadata": {
  "kernelspec": {
   "display_name": "Python 3 (ipykernel)",
   "language": "python",
   "name": "python3"
  },
  "language_info": {
   "codemirror_mode": {
    "name": "ipython",
    "version": 3
   },
   "file_extension": ".py",
   "mimetype": "text/x-python",
   "name": "python",
   "nbconvert_exporter": "python",
   "pygments_lexer": "ipython3",
   "version": "3.6.13"
  }
 },
 "nbformat": 4,
 "nbformat_minor": 2
}
