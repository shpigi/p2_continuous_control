{
 "cells": [
  {
   "cell_type": "markdown",
   "metadata": {},
   "source": [
    "# P2 Continuous Control"
   ]
  },
  {
   "cell_type": "markdown",
   "metadata": {},
   "source": [
    "Don't forget that you shouild be running in the `drlnd` conda environment and you should have chosen your ipyrthon kernel to be `drlnd` as well"
   ]
  },
  {
   "cell_type": "code",
   "execution_count": 1,
   "metadata": {},
   "outputs": [],
   "source": [
    "from collections import deque\n",
    "from unityagents import UnityEnvironment"
   ]
  },
  {
   "cell_type": "markdown",
   "metadata": {},
   "source": [
    "## Open environment and view the space"
   ]
  },
  {
   "cell_type": "code",
   "execution_count": 2,
   "metadata": {},
   "outputs": [
    {
     "name": "stderr",
     "output_type": "stream",
     "text": [
      "INFO:unityagents:\n",
      "'Academy' started successfully!\n",
      "Unity Academy name: Academy\n",
      "        Number of Brains: 1\n",
      "        Number of External Brains : 1\n",
      "        Lesson number : 0\n",
      "        Reset Parameters :\n",
      "\t\tgoal_speed -> 1.0\n",
      "\t\tgoal_size -> 5.0\n",
      "Unity brain name: ReacherBrain\n",
      "        Number of Visual Observations (per agent): 0\n",
      "        Vector Observation space type: continuous\n",
      "        Vector Observation space size (per agent): 33\n",
      "        Number of stacked Vector Observation: 1\n",
      "        Vector Action space type: continuous\n",
      "        Vector Action space size (per agent): 4\n",
      "        Vector Action descriptions: , , , \n"
     ]
    },
    {
     "name": "stdout",
     "output_type": "stream",
     "text": [
      "State space: 33 \n",
      "Action space 4 \n",
      " Initial State  [ 0.00000000e+00 -4.00000000e+00  0.00000000e+00  1.00000000e+00\n",
      " -0.00000000e+00 -0.00000000e+00 -4.37113883e-08  0.00000000e+00\n",
      "  0.00000000e+00  0.00000000e+00  0.00000000e+00  0.00000000e+00\n",
      "  0.00000000e+00  0.00000000e+00 -1.00000000e+01  0.00000000e+00\n",
      "  1.00000000e+00 -0.00000000e+00 -0.00000000e+00 -4.37113883e-08\n",
      "  0.00000000e+00  0.00000000e+00  0.00000000e+00  0.00000000e+00\n",
      "  0.00000000e+00  0.00000000e+00  5.75471878e+00 -1.00000000e+00\n",
      "  5.55726624e+00  0.00000000e+00  1.00000000e+00  0.00000000e+00\n",
      " -1.68164849e-01]\n"
     ]
    }
   ],
   "source": [
    "# Instantiate the Unity environment with the reacher simulation of 20 agents\n",
    "env = UnityEnvironment(file_name='./Reacher_Linux/Reacher.x86_64')\n",
    "brain_name = env.brain_names[0]\n",
    "brain = env.brains[brain_name]\n",
    "env_info = env.reset(train_mode=False)[brain_name]      \n",
    "action_size = brain.vector_action_space_size     \n",
    "state = env_info.vector_observations[0]\n",
    "state_size = len(state)\n",
    "print(\"State space:\", state_size, \"\\nAction space\", action_size, \"\\n Initial State \", state )"
   ]
  },
  {
   "cell_type": "markdown",
   "metadata": {},
   "source": [
    "## Run without training"
   ]
  },
  {
   "cell_type": "code",
   "execution_count": 3,
   "metadata": {
    "scrolled": false
   },
   "outputs": [],
   "source": [
    "import torch\n",
    "import numpy as np\n",
    "\n",
    "def run(n_episodes=20):\n",
    "    scores_moving_win = deque(maxlen=100)\n",
    "    total_scores = []\n",
    "    for i_episode in range(1, n_episodes+1):\n",
    "        scores = np.zeros(20) # One score per agent\n",
    "        env_info = env.reset(train_mode=True)[brain_name] \n",
    "        states = env_info.vector_observations\n",
    "        agent.reset()\n",
    "        t = 0\n",
    "        while True:\n",
    "            with torch.no_grad():\n",
    "                actions = agent.act(states)\n",
    "            env_info = env.step(actions)[brain_name]      \n",
    "            next_states = env_info.vector_observations            \n",
    "            rewards = env_info.rewards\n",
    "            scores += rewards\n",
    "            dones = env_info.local_done \n",
    "            states = next_states\n",
    "            if np.all(dones):\n",
    "                break\n",
    "            t += 1\n",
    "\n",
    "        mean_score = np.mean(scores)\n",
    "        scores_moving_win.append(mean_score)\n",
    "        total_scores.append(mean_score)\n",
    "        average_score_moving_win = np.mean(scores_moving_win)\n",
    "        \n",
    "        print('\\rEpisode {}\\tAverage Score: {:.2f} \\t Min:{:.2f} \\t Max:{:.2f}'.format(\n",
    "            i_episode, average_score_moving_win,\n",
    "            np.min(scores), np.max(scores)))\n",
    "    return total_scores"
   ]
  },
  {
   "cell_type": "code",
   "execution_count": 4,
   "metadata": {
    "scrolled": false
   },
   "outputs": [
    {
     "name": "stdout",
     "output_type": "stream",
     "text": [
      "cuda:0\n",
      "Episode 1\tAverage Score: 36.12 \t Min:16.80 \t Max:39.58\n",
      "Episode 2\tAverage Score: 36.03 \t Min:30.56 \t Max:39.55\n",
      "Episode 3\tAverage Score: 36.07 \t Min:32.01 \t Max:39.58\n",
      "Episode 4\tAverage Score: 36.13 \t Min:27.06 \t Max:39.42\n",
      "Episode 5\tAverage Score: 36.14 \t Min:26.39 \t Max:39.65\n",
      "Episode 6\tAverage Score: 36.15 \t Min:29.49 \t Max:39.44\n",
      "Episode 7\tAverage Score: 36.02 \t Min:26.38 \t Max:39.36\n",
      "Episode 8\tAverage Score: 36.15 \t Min:29.94 \t Max:39.45\n",
      "Episode 9\tAverage Score: 36.17 \t Min:31.66 \t Max:39.32\n",
      "Episode 10\tAverage Score: 36.02 \t Min:17.87 \t Max:39.53\n",
      "Episode 11\tAverage Score: 36.18 \t Min:35.51 \t Max:39.52\n",
      "Episode 12\tAverage Score: 36.22 \t Min:29.99 \t Max:39.49\n",
      "Episode 13\tAverage Score: 36.16 \t Min:29.32 \t Max:39.06\n",
      "Episode 14\tAverage Score: 36.22 \t Min:31.94 \t Max:39.56\n",
      "Episode 15\tAverage Score: 36.23 \t Min:29.03 \t Max:39.51\n",
      "Episode 16\tAverage Score: 36.21 \t Min:29.11 \t Max:39.42\n",
      "Episode 17\tAverage Score: 36.22 \t Min:29.42 \t Max:39.57\n",
      "Episode 18\tAverage Score: 36.20 \t Min:30.42 \t Max:39.41\n",
      "Episode 19\tAverage Score: 36.20 \t Min:28.20 \t Max:39.18\n",
      "Episode 20\tAverage Score: 36.21 \t Min:30.63 \t Max:39.38\n"
     ]
    }
   ],
   "source": [
    "# Instantiate just the actor \n",
    "from agent import Agent\n",
    "\n",
    "agent = Agent(state_size=state_size, action_size=action_size)\n",
    "agent.actor_local.load_state_dict(torch.load('final_actor.pth'))\n",
    "agent.actor_local.eval()\n",
    "\n",
    "# run\n",
    "scores = run()"
   ]
  },
  {
   "cell_type": "markdown",
   "metadata": {},
   "source": [
    "## Plot run results"
   ]
  },
  {
   "cell_type": "code",
   "execution_count": 5,
   "metadata": {},
   "outputs": [
    {
     "data": {
      "image/png": "[encoded data removed]",
      "text/plain": [
       "<Figure size 504x504 with 1 Axes>"
      ]
     },
     "metadata": {
      "needs_background": "light"
     },
     "output_type": "display_data"
    }
   ],
   "source": [
    "import matplotlib.pyplot as plt\n",
    "%matplotlib inline\n",
    "\n",
    "# plot the scores\n",
    "fig = plt.figure(figsize=(7,7))\n",
    "ax = fig.add_subplot(111)\n",
    "plt.plot(np.arange(len(scores)), scores)\n",
    "plt.plot([0,len(scores)],[30, 30])\n",
    "plt.ylabel('Score')\n",
    "plt.xlabel('Episode #')\n",
    "plt.legend(['mean score-per-episode over the 20 agents',\n",
    "            'passing score'])\n",
    "plt.ylim(bottom=0, top=40)\n",
    "plt.show()"
   ]
  },
  {
   "cell_type": "code",
   "execution_count": 6,
   "metadata": {},
   "outputs": [],
   "source": [
    "env.close()"
   ]
  }
 ],
 "metadata": {
  "kernelspec": {
   "display_name": "drlnd",
   "language": "python",
   "name": "drlnd"
  },
  "language_info": {
   "codemirror_mode": {
    "name": "ipython",
    "version": 3
   },
   "file_extension": ".py",
   "mimetype": "text/x-python",
   "name": "python",
   "nbconvert_exporter": "python",
   "pygments_lexer": "ipython3",
   "version": "3.6.13"
  }
 },
 "nbformat": 4,
 "nbformat_minor": 2
}
